{
 "cells": [
  {
   "cell_type": "markdown",
   "id": "ff27f43f",
   "metadata": {},
   "source": [
    "# Introduction to Python"
   ]
  },
  {
   "cell_type": "markdown",
   "id": "bb68d19a",
   "metadata": {},
   "source": [
    "If you've come to this notebook through the Intro to Python GitHub, you'll have already learned a little about what Python and programming are. This notebook will build upon that foundation by explaining the following topics:\n",
    "\n",
    "- Basic Syntax\n",
    "- Variables\n",
    "- Expressions and Operators \n",
    "- Data types\n",
    "- Basic Functions"
   ]
  },
  {
   "cell_type": "markdown",
   "id": "63fd686f",
   "metadata": {},
   "source": [
    "## 1. The Basics"
   ]
  },
  {
   "cell_type": "markdown",
   "id": "2e4852a7",
   "metadata": {},
   "source": [
    "Because Python is a general purpose language, you can use it for many different applications. It's especially popular for Data Science and Digital Humanities. This sections will cover the basics of variables, basic built-in functions, and expressions."
   ]
  },
  {
   "cell_type": "markdown",
   "id": "0480c376",
   "metadata": {},
   "source": [
    "### 1.1. Your First Lines of Code"
   ]
  },
  {
   "cell_type": "code",
   "execution_count": 1,
   "id": "4c6837c4",
   "metadata": {
    "tags": []
   },
   "outputs": [
    {
     "name": "stdout",
     "output_type": "stream",
     "text": [
      "Hello World\n"
     ]
    }
   ],
   "source": [
    "print(\"Hello World\")"
   ]
  },
  {
   "cell_type": "code",
   "execution_count": null,
   "id": "f5c103cd",
   "metadata": {},
   "outputs": [],
   "source": [
    "#type your message below"
   ]
  },
  {
   "cell_type": "markdown",
   "id": "c07348fc",
   "metadata": {},
   "source": [
    "Congratulations, you've written your first Python **statement**! Broadly speaking, any line of code you write will be a statement. In this line of code, you are calling the build in **function**, print(), entering in an **argument**, \"Hello World\" and then running the code."
   ]
  },
  {
   "cell_type": "markdown",
   "id": "4a2764cc",
   "metadata": {},
   "source": [
    "#### Importing packages"
   ]
  },
  {
   "cell_type": "code",
   "execution_count": 2,
   "id": "9d730962",
   "metadata": {},
   "outputs": [
    {
     "name": "stdout",
     "output_type": "stream",
     "text": [
      "The Zen of Python, by Tim Peters\n",
      "\n",
      "Beautiful is better than ugly.\n",
      "Explicit is better than implicit.\n",
      "Simple is better than complex.\n",
      "Complex is better than complicated.\n",
      "Flat is better than nested.\n",
      "Sparse is better than dense.\n",
      "Readability counts.\n",
      "Special cases aren't special enough to break the rules.\n",
      "Although practicality beats purity.\n",
      "Errors should never pass silently.\n",
      "Unless explicitly silenced.\n",
      "In the face of ambiguity, refuse the temptation to guess.\n",
      "There should be one-- and preferably only one --obvious way to do it.\n",
      "Although that way may not be obvious at first unless you're Dutch.\n",
      "Now is better than never.\n",
      "Although never is often better than *right* now.\n",
      "If the implementation is hard to explain, it's a bad idea.\n",
      "If the implementation is easy to explain, it may be a good idea.\n",
      "Namespaces are one honking great idea -- let's do more of those!\n"
     ]
    }
   ],
   "source": [
    "import this"
   ]
  },
  {
   "cell_type": "markdown",
   "id": "6acd9f7b",
   "metadata": {},
   "source": [
    "You'll see above some of the motivations about Python. Ease of use and readability are key components. That's one of the reasons you'll see a lot of functions that use English words such as print()."
   ]
  },
  {
   "cell_type": "markdown",
   "id": "da53a983",
   "metadata": {},
   "source": [
    "#### Assigning your first variables"
   ]
  },
  {
   "cell_type": "code",
   "execution_count": 3,
   "id": "9806f0a1",
   "metadata": {},
   "outputs": [
    {
     "name": "stdout",
     "output_type": "stream",
     "text": [
      "Hello World\n"
     ]
    }
   ],
   "source": [
    "# Statements can also create variables that can then be passed as arguments\n",
    "\n",
    "x = \"Hello World\"\n",
    "print(x)"
   ]
  },
  {
   "cell_type": "code",
   "execution_count": 6,
   "id": "272b0c78",
   "metadata": {},
   "outputs": [
    {
     "name": "stdout",
     "output_type": "stream",
     "text": [
      "HELLO WORLD\n"
     ]
    }
   ],
   "source": [
    "# Variables are case sensitive. This line of code will fail\n",
    "\n",
    "print(X)"
   ]
  },
  {
   "cell_type": "markdown",
   "id": "9d2764db",
   "metadata": {},
   "source": [
    "#### Do it yourself!"
   ]
  },
  {
   "cell_type": "markdown",
   "id": "2920afd4",
   "metadata": {},
   "source": [
    "In the codespace below, write a message and assign it to a variable, then use the print() function to return the variable. After that import the package called pandas."
   ]
  },
  {
   "cell_type": "code",
   "execution_count": null,
   "id": "23c0ffd8",
   "metadata": {},
   "outputs": [],
   "source": []
  },
  {
   "cell_type": "markdown",
   "id": "5ff0609d",
   "metadata": {},
   "source": [
    "#### Key Terms 1.1"
   ]
  },
  {
   "cell_type": "markdown",
   "id": "e2c536a6",
   "metadata": {},
   "source": [
    "- **Statement** - A line of code\n",
    "- **Function** - A snippet of code that gives instructions for some sort of action that can be re-written. These can be build in, such as print(), or created by the programmer.\n",
    "- **Argument** - Information that is input into a function\n",
    "- **Variable** - A value in code that can be referenced by a name or label"
   ]
  },
  {
   "cell_type": "markdown",
   "id": "4b848ee4",
   "metadata": {},
   "source": [
    "### 1.2 Expressions and Operators"
   ]
  },
  {
   "cell_type": "markdown",
   "id": "ce1c169d",
   "metadata": {},
   "source": [
    "Many lines of code you will write will contain **expressions**. These are bits of code that use **operators**  to compute or evaluate results. Run the code snippet below to see an example of an expression."
   ]
  },
  {
   "cell_type": "code",
   "execution_count": null,
   "id": "c35da6ea",
   "metadata": {},
   "outputs": [],
   "source": [
    "# Your first expression\n",
    "\n",
    "1+1"
   ]
  },
  {
   "cell_type": "markdown",
   "id": "788397cd",
   "metadata": {},
   "source": [
    "There are many different types of operators that you should know about. You have likely encountered many of them in basic math. Take a look at the examples below. It's also important to note that mathematical expressions follow the order of operations (PEMDAS)."
   ]
  },
  {
   "cell_type": "code",
   "execution_count": 8,
   "id": "02feea74",
   "metadata": {},
   "outputs": [
    {
     "name": "stdout",
     "output_type": "stream",
     "text": [
      "2\n",
      "1\n",
      "2\n",
      "10\n",
      "5.0\n"
     ]
    }
   ],
   "source": [
    "# Addition and Subtraction\n",
    "print(1+1)\n",
    "print(2-1)\n",
    "print(2+1-1)\n",
    "\n",
    "#Division and Multiplication\n",
    "print(2*5)\n",
    "print(10/2)\n"
   ]
  },
  {
   "cell_type": "markdown",
   "id": "534fc110",
   "metadata": {},
   "source": [
    "| Operator      | Operation      | Example       | Output       |\n",
    "| :-----------: | :------------: |:------------: |:------------:|\n",
    "| +           | Addition     | 1 + 1         |  2         |\n",
    "| -           | Subtraction  | 2 - 1         |  1         |\n",
    "| *           | Multiplication| 2 * 5      |  10         |\n",
    "| /           | Division     | 10 / 5        |  5.0       |\n",
    "| %           | Modulus/Remainder     | 5 % 2        |  1    |\n",
    "| //          | Floor Division     | 5 // 2        |  2    |\n",
    "| **           | Exponent/Power     | 3 ** 2   |  9    |"
   ]
  },
  {
   "cell_type": "markdown",
   "id": "a78a636b",
   "metadata": {},
   "source": [
    "#### Do It Yourself!"
   ]
  },
  {
   "cell_type": "markdown",
   "id": "b3483706",
   "metadata": {},
   "source": [
    "In the codespace below, write a few expressions. If you plan to do more than one, make sure to use the print function. If you don't you'll only get the last result!"
   ]
  },
  {
   "cell_type": "code",
   "execution_count": null,
   "id": "bac17344",
   "metadata": {},
   "outputs": [],
   "source": []
  },
  {
   "cell_type": "markdown",
   "id": "7e8ee73a",
   "metadata": {},
   "source": [
    "#### Key Terms 1.2"
   ]
  },
  {
   "cell_type": "markdown",
   "id": "4ec0ee67",
   "metadata": {},
   "source": [
    "- **Expression** - An snippet of code that returns a value\n",
    "- **Operator** - A symbol that performs an operation such as addition or subtraction in an expression"
   ]
  },
  {
   "cell_type": "markdown",
   "id": "0dce2e81",
   "metadata": {},
   "source": [
    "## 2. Variables and Data Types"
   ]
  },
  {
   "cell_type": "markdown",
   "id": "42993940",
   "metadata": {},
   "source": [
    "Thus far, we've spoken briefly about variables and even assigned a value to a variable; however, we've only just scratched the surface on what we can do with variables. This section is going to go over the most common types of data stored in variables as well as best practices when naming variables."
   ]
  },
  {
   "cell_type": "markdown",
   "id": "f1cb93b6",
   "metadata": {},
   "source": [
    "### 2.1 Introduction to Variables"
   ]
  },
  {
   "cell_type": "code",
   "execution_count": 11,
   "id": "57bca20a",
   "metadata": {},
   "outputs": [
    {
     "name": "stdout",
     "output_type": "stream",
     "text": [
      "One Hundred Years of Solitude\n"
     ]
    }
   ],
   "source": [
    "my_favorite_book = \"One Hundred Years of Solitude\"\n",
    "print(my_favorite_book)"
   ]
  },
  {
   "cell_type": "code",
   "execution_count": 15,
   "id": "c49062f6",
   "metadata": {},
   "outputs": [
    {
     "name": "stdout",
     "output_type": "stream",
     "text": [
      "Their Eyes Were Watching God\n",
      "Their Eyes Were Watching God or One Hundred Years of Solitude\n",
      "16\n",
      "17\n"
     ]
    }
   ],
   "source": [
    "my_favorite_book = \"Their Eyes Were Watching God\"\n",
    "print(my_favorite_book)\n",
    "my_favorite_book = my_favorite_book + \" or One Hundred Years of Solitude\"\n",
    "print(my_favorite_book)\n",
    "\n",
    "legal_driving_age = 16\n",
    "print(legal_driving_age)\n",
    "legal_driving_age = legal_driving_age + 1\n",
    "print(legal_driving_age)"
   ]
  },
  {
   "cell_type": "code",
   "execution_count": 16,
   "id": "13adfb7c",
   "metadata": {},
   "outputs": [
    {
     "name": "stdin",
     "output_type": "stream",
     "text": [
      "What's your favorite book?  Gone Girl\n"
     ]
    },
    {
     "name": "stdout",
     "output_type": "stream",
     "text": [
      "Gone Girl\n"
     ]
    },
    {
     "name": "stdin",
     "output_type": "stream",
     "text": [
      "What's your favorite genre?  Mystery\n"
     ]
    },
    {
     "name": "stdout",
     "output_type": "stream",
     "text": [
      "Mystery\n"
     ]
    }
   ],
   "source": [
    "your_favorite_book = input(\"What's your favorite book? \")\n",
    "print(your_favorite_book)\n",
    "your_favorite_genre = input(\"What's your favorite genre? \")\n",
    "print(your_favorite_genre)"
   ]
  },
  {
   "cell_type": "markdown",
   "id": "6adb2af3",
   "metadata": {},
   "source": [
    "#### Variable Naming"
   ]
  },
  {
   "cell_type": "markdown",
   "id": "be6fefd0",
   "metadata": {},
   "source": [
    "When it comes to assigning variables, there are a few rules that govern what you can name a variable. In Python, these are:\n",
    "- Variables must start with a letter or an underscore though numbers are allowed within the variable (ex. my_var_1)\n",
    "- Variables can ONLY contain alpha-numeric characters or underscores\n",
    "- Variables are case-sensitive\n",
    "- Variables cannot be existing Python terms such as \"print\""
   ]
  },
  {
   "cell_type": "code",
   "execution_count": 17,
   "id": "6de58e46",
   "metadata": {},
   "outputs": [],
   "source": [
    "# Most people choose to use camel case or snake case when using multi-word variables\n",
    "camelCaseVariable = 3\n",
    "snake_case_variable = 9\n",
    "# Below are some additional examples of variable names that follow the rules\n",
    "\n",
    "x = 5\n",
    "_book = x\n",
    "myBook = \"The Picture of Dorian Gray\"\n",
    "\n"
   ]
  },
  {
   "cell_type": "code",
   "execution_count": 18,
   "id": "cf61a6e8",
   "metadata": {},
   "outputs": [
    {
     "ename": "SyntaxError",
     "evalue": "invalid decimal literal (4117110260.py, line 2)",
     "output_type": "error",
     "traceback": [
      "\u001b[1;36m  Cell \u001b[1;32mIn[18], line 2\u001b[1;36m\u001b[0m\n\u001b[1;33m    1libraryCard = \"fun\"\u001b[0m\n\u001b[1;37m    ^\u001b[0m\n\u001b[1;31mSyntaxError\u001b[0m\u001b[1;31m:\u001b[0m invalid decimal literal\n"
     ]
    }
   ],
   "source": [
    "# Here are some variables that will break the rules\n",
    "1libraryCard = \"fun\"\n",
    "reg-style = \"brutal\""
   ]
  },
  {
   "cell_type": "code",
   "execution_count": null,
   "id": "5a406b21",
   "metadata": {},
   "outputs": [],
   "source": [
    "# Often you will know whether a variable is valid based on its color.\n",
    "\n",
    "True = 1\n",
    "print = 2\n",
    "\n",
    "# Neither of the above variable names are allowed because they are Python terms\n"
   ]
  },
  {
   "cell_type": "markdown",
   "id": "dffc0302",
   "metadata": {},
   "source": [
    "#### Do It Yourself!"
   ]
  },
  {
   "cell_type": "markdown",
   "id": "434d9857",
   "metadata": {},
   "source": [
    "In the code-space below, assign a few variables. See what names work and don't work. You can assign these variables number values or word values, so long as the words are in quotations (more on this in the next section). Make sure one of those assigned variables is assigned through the input() function. See what happens when you override a variable through the input function."
   ]
  },
  {
   "cell_type": "code",
   "execution_count": null,
   "id": "020be319",
   "metadata": {},
   "outputs": [],
   "source": []
  },
  {
   "cell_type": "markdown",
   "id": "a58c6d52",
   "metadata": {},
   "source": [
    "### 2.2 Data Types"
   ]
  },
  {
   "cell_type": "markdown",
   "id": "3a990e64",
   "metadata": {},
   "source": [
    "Python has multiple different built-in data types which affect the way they function in expressions. This workbook will only go through the basic data-types, but future workbooks will explore other data types in more depth. For this tutorial, we're going to be looking at: strings, floats, integers, booleans, and lists."
   ]
  },
  {
   "cell_type": "markdown",
   "id": "4590bd0e",
   "metadata": {},
   "source": [
    "| Type      | Name/Abbreviation      | Examples    |  \n",
    "| :-----------: | :------------: |:------------: |\n",
    "| String           | str     | \"dog\"       | \n",
    "| Integer          | int  | 12         |\n",
    "| Float    | float| 1.25      |\n",
    "| Boolean           | bool    | True or False       |\n",
    "| List           | list   | [1, 2, 3]        |\n"
   ]
  },
  {
   "cell_type": "code",
   "execution_count": 19,
   "id": "4e678b68",
   "metadata": {},
   "outputs": [],
   "source": [
    "book_count = 5\n",
    "location = \"Library\"\n",
    "avg_pages = 150.5\n",
    "book_list = [\"The Giver\", \"The Perks of Being a Wallflower\", \"Speak\", \"Animal Farm\", \"Beloved\"]"
   ]
  },
  {
   "cell_type": "markdown",
   "id": "f64c518d",
   "metadata": {},
   "source": [
    "#### Checking Data Types"
   ]
  },
  {
   "cell_type": "markdown",
   "id": "8f265e66",
   "metadata": {},
   "source": [
    "We can check the data type of a variable by using the type() function."
   ]
  },
  {
   "cell_type": "code",
   "execution_count": 20,
   "id": "abc853cb",
   "metadata": {},
   "outputs": [
    {
     "name": "stdout",
     "output_type": "stream",
     "text": [
      "<class 'int'>\n",
      "<class 'str'>\n",
      "<class 'float'>\n",
      "<class 'list'>\n"
     ]
    }
   ],
   "source": [
    "print(type(book_count))\n",
    "print(type(location))\n",
    "print(type(avg_pages))\n",
    "print(type(book_list))"
   ]
  },
  {
   "cell_type": "markdown",
   "id": "fa2fd9f8",
   "metadata": {},
   "source": [
    "#### Changing Data Types"
   ]
  },
  {
   "cell_type": "markdown",
   "id": "87c656b4",
   "metadata": {},
   "source": [
    "You can also use functions to change the type of variable something is in certain cases."
   ]
  },
  {
   "cell_type": "code",
   "execution_count": 28,
   "id": "ca9a5bcc",
   "metadata": {},
   "outputs": [
    {
     "name": "stdout",
     "output_type": "stream",
     "text": [
      "2.6\n",
      "<class 'str'>\n",
      "2.6\n",
      "<class 'float'>\n",
      "2\n",
      "<class 'int'>\n",
      "2.0\n",
      "<class 'float'>\n"
     ]
    }
   ],
   "source": [
    "# Turning an integer into a string\n",
    "\n",
    "x = 2.6\n",
    "x = str(x)\n",
    "print(x)\n",
    "print(type(x))\n",
    "\n",
    "# Turning that string into a float\n",
    "\n",
    "# x = float(x)\n",
    "# print(x)\n",
    "# print(type(x))\n",
    "\n",
    "# Turning that float into an integer\n",
    "\n",
    "# x = int(x)\n",
    "# print(x)\n",
    "# print(type(x))\n",
    "\n",
    "# Turning that integer into a float\n",
    "\n",
    "# x = float(x)\n",
    "# print(x)\n",
    "# print(type(x))"
   ]
  },
  {
   "cell_type": "markdown",
   "id": "53c7c37c",
   "metadata": {},
   "source": [
    "#### Booleans "
   ]
  },
  {
   "cell_type": "markdown",
   "id": "12c4599a",
   "metadata": {},
   "source": [
    "To see our final data type, we're going to write an expression using an operator we haven't seen yet, a **comparison operator**. Boolean values are either True or False. Below is a list of comparison operators.\n",
    "\n",
    "| Operator      | Meaning      | Example       | Output       |\n",
    "| :-----------: | :------------: |:------------: |:------------:|\n",
    "| ==           | Equal    | 1 == 1         |  True         |\n",
    "| !=           | Not Equal  | 1 != 1         |  False         |\n",
    "| >           | Greater Than| 2 > 1      |  True         |\n",
    "| <           | Less Than     | 10 < 5        |  False       |\n",
    "| >=           | Greater Than or Equal To     | 5 >= 5        |  True    |\n",
    "| <=          | Less Than or Equal To     | 5 <= 2        |  False    |"
   ]
  },
  {
   "cell_type": "code",
   "execution_count": 29,
   "id": "243e4374",
   "metadata": {},
   "outputs": [
    {
     "data": {
      "text/plain": [
       "False"
      ]
     },
     "execution_count": 29,
     "metadata": {},
     "output_type": "execute_result"
    }
   ],
   "source": [
    "## The == operator denotes a comparison rather than assigning a variable\n",
    "book_count == 7"
   ]
  },
  {
   "cell_type": "markdown",
   "id": "0a2515fc-a4ef-4fec-9c19-bebe3d4ff4dc",
   "metadata": {},
   "source": [
    "#### Do It Yourself!"
   ]
  },
  {
   "cell_type": "markdown",
   "id": "8816df3d-cd88-4d2f-8b60-db5616c8a367",
   "metadata": {},
   "source": [
    "In the codespace below, assign a numerical and string variables. Then use the built-in functions to change your variable types. Try comparing a string version of an integer with an integer. What happens?"
   ]
  },
  {
   "cell_type": "code",
   "execution_count": 60,
   "id": "39eaf205-edca-42dc-9ff6-6523042b350a",
   "metadata": {
    "tags": []
   },
   "outputs": [],
   "source": [
    "# Assign your variables\n",
    "\n",
    "# Change your variables\n",
    "\n",
    "# Use a comparison operator between a string version of an integer and an integer"
   ]
  },
  {
   "cell_type": "markdown",
   "id": "f3a72050-4229-45e7-8788-266c307bc6b8",
   "metadata": {},
   "source": [
    "#### Key Terms 2.2"
   ]
  },
  {
   "cell_type": "markdown",
   "id": "82fc4515-5e92-460f-be81-2b06b92bf449",
   "metadata": {},
   "source": [
    "- **Comparison Operator** - A symbol that performs an operation that compares two values."
   ]
  },
  {
   "cell_type": "markdown",
   "id": "2bebcff9",
   "metadata": {},
   "source": [
    "### 2.3 Operations With Variables"
   ]
  },
  {
   "cell_type": "markdown",
   "id": "266141b5",
   "metadata": {},
   "source": [
    "While the differences between variables may seem insignificant, they impact how we write expressions. For example, a string cannot be added to an integer, and when integers are added or multiplied by floats, they become floats themselves."
   ]
  },
  {
   "cell_type": "code",
   "execution_count": 30,
   "id": "221417ec",
   "metadata": {},
   "outputs": [
    {
     "ename": "TypeError",
     "evalue": "unsupported operand type(s) for +: 'int' and 'str'",
     "output_type": "error",
     "traceback": [
      "\u001b[1;31m---------------------------------------------------------------------------\u001b[0m",
      "\u001b[1;31mTypeError\u001b[0m                                 Traceback (most recent call last)",
      "Cell \u001b[1;32mIn[30], line 2\u001b[0m\n\u001b[0;32m      1\u001b[0m \u001b[38;5;66;03m# You can't add strings and integers together\u001b[39;00m\n\u001b[1;32m----> 2\u001b[0m book_count \u001b[38;5;241m+\u001b[39m location\n",
      "\u001b[1;31mTypeError\u001b[0m: unsupported operand type(s) for +: 'int' and 'str'"
     ]
    }
   ],
   "source": [
    "# You can't add strings and integers together\n",
    "book_count + location"
   ]
  },
  {
   "cell_type": "markdown",
   "id": "0e560a87",
   "metadata": {},
   "source": [
    "You can also add strings together, this creates a new string with the second string added to the end of the first. This is called **concatenation**."
   ]
  },
  {
   "cell_type": "code",
   "execution_count": 31,
   "id": "caa23f4b",
   "metadata": {},
   "outputs": [
    {
     "name": "stdout",
     "output_type": "stream",
     "text": [
      "The Library is fun!\n"
     ]
    }
   ],
   "source": [
    "# When you add two strings together, it adds to the string\n",
    "\n",
    "print(\"The \" + location + \" is \" + \"fun!\")\n"
   ]
  },
  {
   "cell_type": "code",
   "execution_count": 32,
   "id": "1466a081",
   "metadata": {},
   "outputs": [
    {
     "name": "stdout",
     "output_type": "stream",
     "text": [
      "there are5books in the Library\n"
     ]
    }
   ],
   "source": [
    "print(\"there are\" + str(book_count) + \"books in the Library\")"
   ]
  },
  {
   "cell_type": "code",
   "execution_count": 33,
   "id": "06c57e55",
   "metadata": {},
   "outputs": [
    {
     "name": "stdout",
     "output_type": "stream",
     "text": [
      "there are 5 books in the Library\n"
     ]
    }
   ],
   "source": [
    "print(\"there are \" + str(book_count) + \" books in the Library\")"
   ]
  },
  {
   "cell_type": "code",
   "execution_count": 37,
   "id": "41f08874",
   "metadata": {},
   "outputs": [
    {
     "name": "stdout",
     "output_type": "stream",
     "text": [
      "There are 5 books in the library\n"
     ]
    }
   ],
   "source": [
    "print(f'There are {book_count} books in the library')"
   ]
  },
  {
   "cell_type": "code",
   "execution_count": 39,
   "id": "3cf2b5cf",
   "metadata": {
    "scrolled": true
   },
   "outputs": [
    {
     "name": "stdout",
     "output_type": "stream",
     "text": [
      "<class 'int'>\n",
      "8.0\n",
      "<class 'int'>\n",
      "1.0\n",
      "12.0\n",
      "<class 'float'>\n",
      "5.0\n",
      "14.0\n",
      "<class 'float'>\n"
     ]
    }
   ],
   "source": [
    "# Using mathematical operations between floats and integers turns the outputs into floats.\n",
    "x = 4\n",
    "print(type(x))\n",
    "print(x+4.0)\n",
    "print(type(x))\n",
    "\n",
    "# print(x/4.0)\n",
    "# print(x*3.0)\n",
    "\n",
    "y =10.0\n",
    "print(type(y))\n",
    "print(y/2)\n",
    "print(y + x)\n",
    "print(type(y + x))"
   ]
  },
  {
   "cell_type": "code",
   "execution_count": 48,
   "id": "5d1b69d8",
   "metadata": {},
   "outputs": [
    {
     "name": "stdin",
     "output_type": "stream",
     "text": [
      "How old are you?  15\n"
     ]
    },
    {
     "name": "stdout",
     "output_type": "stream",
     "text": [
      "You are not old enough to drive, you need to wait a year.\n"
     ]
    }
   ],
   "source": [
    "age = int(input(\"How old are you? \"))\n",
    "if age > 16:\n",
    "    print(\"You are old enough to drive\")\n",
    "elif age == 15:\n",
    "    print(\"You are not old enough to drive, you need to wait a year.\")\n",
    "else:\n",
    "    print(f\"You are not old enough to drive, you need to wait {16-age} years\")\n",
    "        \n",
    "    "
   ]
  },
  {
   "cell_type": "code",
   "execution_count": 49,
   "id": "01cccc34",
   "metadata": {},
   "outputs": [
    {
     "ename": "TypeError",
     "evalue": "can only concatenate list (not \"str\") to list",
     "output_type": "error",
     "traceback": [
      "\u001b[1;31m---------------------------------------------------------------------------\u001b[0m",
      "\u001b[1;31mTypeError\u001b[0m                                 Traceback (most recent call last)",
      "Cell \u001b[1;32mIn[49], line 3\u001b[0m\n\u001b[0;32m      1\u001b[0m \u001b[38;5;66;03m# You also cannot add other data types to lists.\u001b[39;00m\n\u001b[1;32m----> 3\u001b[0m book_list \u001b[38;5;241m+\u001b[39m \u001b[38;5;124m'\u001b[39m\u001b[38;5;124m1984\u001b[39m\u001b[38;5;124m'\u001b[39m\n",
      "\u001b[1;31mTypeError\u001b[0m: can only concatenate list (not \"str\") to list"
     ]
    }
   ],
   "source": [
    "# You also cannot add other data types to lists.\n",
    "\n",
    "book_list + '1984'"
   ]
  },
  {
   "cell_type": "code",
   "execution_count": 51,
   "id": "f1202db0",
   "metadata": {},
   "outputs": [],
   "source": [
    "# You can add lists together\n",
    "second_list = ['1984', 'The Hunger Games']\n",
    "\n",
    "book_list + second_list"
   ]
  },
  {
   "cell_type": "markdown",
   "id": "bd53c259",
   "metadata": {},
   "source": [
    "#### The While Loop"
   ]
  },
  {
   "cell_type": "code",
   "execution_count": 53,
   "id": "aa0a6c28",
   "metadata": {},
   "outputs": [
    {
     "name": "stdin",
     "output_type": "stream",
     "text": [
      "List your top 5 books, one at a time: Gone Girl\n",
      "List your top 5 books, one at a time: Speak\n",
      "List your top 5 books, one at a time: 100 Years of Solitude\n",
      "List your top 5 books, one at a time: Song of Solomon\n",
      "List your top 5 books, one at a time: Their Eyes Were Watching God\n"
     ]
    }
   ],
   "source": [
    "book_list = []\n",
    "i = 0\n",
    "while i < 5:\n",
    "    book = input(\"List your top 5 books, one at a time:\")\n",
    "    book_list.append(book)\n",
    "    i += 1\n"
   ]
  },
  {
   "cell_type": "code",
   "execution_count": 54,
   "id": "e84105e3",
   "metadata": {},
   "outputs": [
    {
     "data": {
      "text/plain": [
       "['Gone Girl',\n",
       " 'Speak',\n",
       " '100 Years of Solitude',\n",
       " 'Song of Solomon',\n",
       " 'Their Eyes Were Watching God']"
      ]
     },
     "execution_count": 54,
     "metadata": {},
     "output_type": "execute_result"
    }
   ],
   "source": [
    "book_list"
   ]
  },
  {
   "cell_type": "markdown",
   "id": "da6112de",
   "metadata": {},
   "source": [
    "#### Do It Yourself!"
   ]
  },
  {
   "cell_type": "markdown",
   "id": "b7ea6d5d",
   "metadata": {},
   "source": [
    "In the codespace below, assign a numerical and string variables. Then use the addition, subtraction, and multiplication operators with these variables and see what happens."
   ]
  },
  {
   "cell_type": "code",
   "execution_count": null,
   "id": "cbb19929",
   "metadata": {},
   "outputs": [],
   "source": [
    "# Create two numerical variables and two string variables.\n",
    "\n",
    "\n",
    "# Use mathematical operations on your numerical variables.\n",
    "\n",
    "\n",
    "# See what happens when you use mathematical operations on your string variables. Which operators work?\n",
    "\n",
    "\n",
    "#Turn your integers into strings and see what happens when you add them together\n",
    "\n"
   ]
  },
  {
   "cell_type": "markdown",
   "id": "bdf2baf0-dd49-4b75-8997-b07bbb89e14e",
   "metadata": {},
   "source": [
    "#### Key Terms 2.3"
   ]
  },
  {
   "cell_type": "markdown",
   "id": "d60fa793-4066-4681-9819-eefab3f1ebd1",
   "metadata": {},
   "source": [
    "- **Concatenation** - The action of two non-integer values such as strings or lists using the + operator\n",
    "- **While Loop** - A type of statement that executes a block of code for as long as a designated condition is met."
   ]
  },
  {
   "cell_type": "markdown",
   "id": "680c8882",
   "metadata": {},
   "source": [
    "## 3. Working with Variables"
   ]
  },
  {
   "cell_type": "markdown",
   "id": "e3f862a2",
   "metadata": {},
   "source": [
    "We've learned about some of the main data types and some operations that we can do with these data types, but there is so much more that many data types have to offer when it comes to operations. In this tutorial, we'll be focusing mostly on strings, but will talk a little about lists as well."
   ]
  },
  {
   "cell_type": "markdown",
   "id": "4a3e4646",
   "metadata": {},
   "source": [
    "### 3.1 Evaluating Strings and Lists"
   ]
  },
  {
   "cell_type": "markdown",
   "id": "00c86ff6",
   "metadata": {},
   "source": [
    "To start off our exploration of strings, we're going to assign a few strings to variables as well as one list of strings. We will use them for the next few exercises."
   ]
  },
  {
   "cell_type": "code",
   "execution_count": 63,
   "id": "53768ce3",
   "metadata": {},
   "outputs": [],
   "source": [
    "# Below you'll see an example of a multi-line string. You can create one by surrounding your text with '''\n",
    "\n",
    "hundred_years = '''Many years later, as he faced the firing squad, \n",
    "Colonel Aureliano Buendía was to remember that distant afternoon \n",
    "when his father took him to discover ice. \n",
    "'''\n",
    "# Lists are a data type but they also hold different data types. You can hold multiple data types in one list.\n",
    "\n",
    "banned_books = [\"The Giver\", \"The Perks of Being a Wallflower\", \"Speak\", \"Animal Farm\", \"Beloved\"]\n",
    "\n",
    "\n",
    "library = \"Regenstein\""
   ]
  },
  {
   "cell_type": "markdown",
   "id": "2506f328",
   "metadata": {},
   "source": [
    "#### The len() function"
   ]
  },
  {
   "cell_type": "code",
   "execution_count": 64,
   "id": "6558989f",
   "metadata": {},
   "outputs": [
    {
     "name": "stdout",
     "output_type": "stream",
     "text": [
      "158\n",
      "10\n",
      "5\n"
     ]
    }
   ],
   "source": [
    "# The len() function prints the number of characters are in a string\n",
    "print(len(hundred_years))\n",
    "print(len(library))\n",
    "\n",
    "# The len() function also works on lists, but instead of characters, it counts the number of items in the list\n",
    "print(len(banned_books))"
   ]
  },
  {
   "cell_type": "code",
   "execution_count": 65,
   "id": "c35240b3",
   "metadata": {},
   "outputs": [
    {
     "name": "stdin",
     "output_type": "stream",
     "text": [
      "List your top 5 books: f\n",
      "List your top 5 books: f\n",
      "List your top 5 books: f\n",
      "List your top 5 books: f\n",
      "List your top 5 books: f\n"
     ]
    }
   ],
   "source": [
    "book_list = []\n",
    "book_count = len(book_list)\n",
    "while book_count < 5:\n",
    "    book = input(\"List your top 5 books:\")\n",
    "    book_list.append(book)\n",
    "    book_count = len(book_list)"
   ]
  },
  {
   "cell_type": "markdown",
   "id": "b2e20912",
   "metadata": {},
   "source": [
    "#### Indexing"
   ]
  },
  {
   "cell_type": "markdown",
   "id": "0d885340-335b-472f-8570-c272410acf15",
   "metadata": {},
   "source": [
    "Through a process called **indexing**, you can grab specific parts of a string or a list."
   ]
  },
  {
   "cell_type": "code",
   "execution_count": 57,
   "id": "8b4fb3d5",
   "metadata": {},
   "outputs": [
    {
     "name": "stdout",
     "output_type": "stream",
     "text": [
      "e\n",
      "R\n",
      "The Giver\n",
      "The Perks of Being a Wallflower\n"
     ]
    }
   ],
   "source": [
    "# Through using brackets, you can grab a character at any position you choose.\n",
    "# Just remember that Python uses zero as the first number in any sequence.\n",
    "\n",
    "print(library[1])\n",
    "print(library[0])\n",
    "\n",
    "\n",
    "# This also works with lists\n",
    "print(banned_books[0])\n",
    "print(banned_books[1])"
   ]
  },
  {
   "cell_type": "markdown",
   "id": "ec52600f",
   "metadata": {},
   "source": [
    "#### Slicing"
   ]
  },
  {
   "cell_type": "markdown",
   "id": "1b532768-e087-49e7-8f16-0d2805f638f5",
   "metadata": {},
   "source": [
    "Through a method called **string slicing**, you can retrieve more than one character at a time. In order to grab a *slice* of your string, you'll need to specify two positions in your brackets separated by a colon."
   ]
  },
  {
   "cell_type": "code",
   "execution_count": 58,
   "id": "16e3ab90",
   "metadata": {},
   "outputs": [
    {
     "name": "stdout",
     "output_type": "stream",
     "text": [
      "R\n",
      "Re\n",
      "Regen\n",
      "Regenst\n",
      "stein\n",
      "['The Giver', 'The Perks of Being a Wallflower', 'Speak']\n"
     ]
    }
   ],
   "source": [
    "# When using string slicing, remember that the character at the end index will not be included. \n",
    "\n",
    "print(library[0:1])\n",
    "print(library[0:2])\n",
    "print(library[0:5])\n",
    "\n",
    "# If you want to take all characters up until an end index that you specify, you can omit the start index\n",
    "print(library[:7])\n",
    "\n",
    "# You can also do this with all characters after an index.\n",
    "print(library[5:])\n",
    "\n",
    "# These methods can be applied to lists as well\n",
    "print(banned_books[:3])"
   ]
  },
  {
   "cell_type": "markdown",
   "id": "963f1826",
   "metadata": {},
   "source": [
    "The last part of indexing and string slicing that is worth mentioning is that you can index characters counting from the end of the variable by using negative indexing. For example the 'd' in 'word' would have an index of -1."
   ]
  },
  {
   "cell_type": "code",
   "execution_count": 66,
   "id": "45ebc693",
   "metadata": {},
   "outputs": [
    {
     "data": {
      "text/plain": [
       "'d'"
      ]
     },
     "execution_count": 66,
     "metadata": {},
     "output_type": "execute_result"
    }
   ],
   "source": [
    "x = 'word'\n",
    "x[-1]"
   ]
  },
  {
   "cell_type": "code",
   "execution_count": 67,
   "id": "4702a815",
   "metadata": {},
   "outputs": [
    {
     "name": "stdout",
     "output_type": "stream",
     "text": [
      "in\n",
      "stein\n",
      "ste\n"
     ]
    }
   ],
   "source": [
    "print(library[-2:])\n",
    "print(library[-5:])\n",
    "print(library[-5:-2])"
   ]
  },
  {
   "cell_type": "markdown",
   "id": "485bca91",
   "metadata": {},
   "source": [
    "#### The For Loop"
   ]
  },
  {
   "cell_type": "markdown",
   "id": "93738c6f",
   "metadata": {},
   "source": [
    "The **for loop** allows you to iterate through your data or perform an action multiple times. As is the case with any list or **array**, you can also loop through your strings."
   ]
  },
  {
   "cell_type": "code",
   "execution_count": 68,
   "id": "6992c74a",
   "metadata": {},
   "outputs": [
    {
     "name": "stdout",
     "output_type": "stream",
     "text": [
      "R\n",
      "e\n",
      "g\n",
      "e\n",
      "n\n",
      "s\n",
      "t\n",
      "e\n",
      "i\n",
      "n\n",
      "The Giver\n",
      "The Perks of Being a Wallflower\n",
      "Speak\n",
      "Animal Farm\n",
      "Beloved\n"
     ]
    }
   ],
   "source": [
    "# Below is a for loop. It is taking each character in the variable, library, and printing it.\n",
    "# Notice that we didn't define the variable, character before including it in a for loop\n",
    "for character in library:\n",
    "    print(character)\n",
    "\n",
    "for book in banned_books:\n",
    "    print(book)"
   ]
  },
  {
   "cell_type": "markdown",
   "id": "282060d2",
   "metadata": {},
   "source": [
    "#### What's in a String?"
   ]
  },
  {
   "cell_type": "markdown",
   "id": "75a91cfc-f81b-432d-8de2-1b26dfd151ae",
   "metadata": {},
   "source": [
    "To check whether a word or character is in a string, you can use \"in\" or \"not in\"."
   ]
  },
  {
   "cell_type": "code",
   "execution_count": 69,
   "id": "0abb20a3",
   "metadata": {},
   "outputs": [
    {
     "name": "stdout",
     "output_type": "stream",
     "text": [
      "True\n",
      "False\n"
     ]
    }
   ],
   "source": [
    "print('ice' in hundred_years)\n",
    "print('ice' not in hundred_years)"
   ]
  },
  {
   "cell_type": "markdown",
   "id": "06d3e1f3-1146-4ac3-ac86-c41a32a74f04",
   "metadata": {},
   "source": [
    "Below is another way of accomplishing what we did in the code block above. This is called an **if statement**, which we'll cover more in future tutorials."
   ]
  },
  {
   "cell_type": "code",
   "execution_count": 70,
   "id": "8ff5d8a4",
   "metadata": {},
   "outputs": [
    {
     "name": "stdout",
     "output_type": "stream",
     "text": [
      "brrr\n"
     ]
    }
   ],
   "source": [
    "if \"ice\" in hundred_years:\n",
    "    print('brrr')"
   ]
  },
  {
   "cell_type": "code",
   "execution_count": 71,
   "id": "74ad1953",
   "metadata": {},
   "outputs": [
    {
     "name": "stdout",
     "output_type": "stream",
     "text": [
      "It's too dark in here\n"
     ]
    }
   ],
   "source": [
    "if \"candle\" not in hundred_years:\n",
    "    print(\"It's too dark in here\")"
   ]
  },
  {
   "cell_type": "code",
   "execution_count": 72,
   "id": "47c2e013",
   "metadata": {},
   "outputs": [
    {
     "name": "stdout",
     "output_type": "stream",
     "text": [
      "It's too dark in here\n"
     ]
    }
   ],
   "source": [
    "# You can also use \"else\" in order to trigger a different action if your conditions are not met\n",
    "if \"candle\" in hundred_years:\n",
    "    print(\"I can see\")\n",
    "else:\n",
    "    print(\"It's too dark in here\")"
   ]
  },
  {
   "cell_type": "markdown",
   "id": "084e7127-3065-4cb2-9475-0405a8ca8955",
   "metadata": {},
   "source": [
    "#### Do It Yourself!"
   ]
  },
  {
   "cell_type": "markdown",
   "id": "86f5cce8-9e7a-41f0-8a6a-91eff4f40941",
   "metadata": {},
   "source": [
    "In the codespace below, use in and not in to evaluate whether a letter or word is in a string of your choice. Then write a program that returns one message if a word is found in a string and a different message if that word is not found. Finally, use a for loop to create a program that loops through all the letters of a string and prints each letter. For an extra challenge, change your for loop so that it prints every letter found in a string unless that letter is \"a\"."
   ]
  },
  {
   "cell_type": "code",
   "execution_count": 73,
   "id": "9982c17b-38d5-42df-9651-6d77b814bf0b",
   "metadata": {
    "tags": []
   },
   "outputs": [],
   "source": [
    "# Using either in or not in evaluate whether a word or letter is in a string of your choosing\n",
    "\n",
    "# Write a program that returns one message if a word is found in a string and a different message if that word is not found.\n",
    "\n",
    "# Write a program that loops through all letters of a string and prints that letter.\n",
    "# Bonus points for writing a program that loops through a word and prints the letter ONLY if that letter is not \"a\""
   ]
  },
  {
   "cell_type": "markdown",
   "id": "435d80aa-4be3-4b7c-980c-0f6be3e713d4",
   "metadata": {},
   "source": [
    "#### Key Terms 3.1"
   ]
  },
  {
   "cell_type": "markdown",
   "id": "9ea2b0e9-9041-45af-add5-a51694715ce4",
   "metadata": {},
   "source": [
    "- **Indexing** - A method of accessing a specific character in a string through using its index position\n",
    "- **String Slicing** - A method of accessing a specific characters in a string through using a starting index position and an ending index position\n",
    "- **For Loop** - A type of statement that executes a block of code for a designated number of times (often the number of values in an array).\n",
    "- **If-Else** - A type of statement that executes a block of code if a condition is met and executes a different block of code if that condition is not met."
   ]
  },
  {
   "cell_type": "markdown",
   "id": "86cd6675",
   "metadata": {},
   "source": [
    "### 3.2 String Methods"
   ]
  },
  {
   "cell_type": "markdown",
   "id": "bc2fea93",
   "metadata": {},
   "source": [
    "We've now learned how we can use expressions to evaluate strings, but how do we change them? We've already done some of this through concatenation, but there are other ways of changing strings called **string methods**. These are functions that are added to the end of your variables."
   ]
  },
  {
   "cell_type": "code",
   "execution_count": 74,
   "id": "a5637432",
   "metadata": {},
   "outputs": [
    {
     "name": "stdout",
     "output_type": "stream",
     "text": [
      "REGENSTEIN\n",
      "regenstein\n",
      " Regenstein \n",
      "Regenstein\n",
      "regenstein\n",
      "Reg\n"
     ]
    }
   ],
   "source": [
    "# Change your string to upper or lower case\n",
    "\n",
    "print(library.upper())\n",
    "print(library.lower())\n",
    "\n",
    "# Remove trailing whitespace\n",
    "\n",
    "library = ' ' + library + ' '\n",
    "print(library)\n",
    "\n",
    "library = library.strip()\n",
    "print(library)\n",
    "\n",
    "# Replacing characters\n",
    "print(library.replace('R', 'r'))\n",
    "print(library.replace('enstein', ''))"
   ]
  },
  {
   "cell_type": "markdown",
   "id": "a577250f",
   "metadata": {},
   "source": [
    "#### Reading and Writing Files"
   ]
  },
  {
   "cell_type": "code",
   "execution_count": 75,
   "id": "553abc6c",
   "metadata": {},
   "outputs": [
    {
     "ename": "FileExistsError",
     "evalue": "[Errno 17] File exists: 'hundred_years.txt'",
     "output_type": "error",
     "traceback": [
      "\u001b[1;31m---------------------------------------------------------------------------\u001b[0m",
      "\u001b[1;31mFileExistsError\u001b[0m                           Traceback (most recent call last)",
      "Cell \u001b[1;32mIn[75], line 2\u001b[0m\n\u001b[0;32m      1\u001b[0m \u001b[38;5;66;03m# create a file\u001b[39;00m\n\u001b[1;32m----> 2\u001b[0m f \u001b[38;5;241m=\u001b[39m \u001b[38;5;28mopen\u001b[39m(\u001b[38;5;124m\"\u001b[39m\u001b[38;5;124mhundred_years.txt\u001b[39m\u001b[38;5;124m\"\u001b[39m, \u001b[38;5;124m\"\u001b[39m\u001b[38;5;124mx\u001b[39m\u001b[38;5;124m\"\u001b[39m)\n",
      "File \u001b[1;32m~\\AppData\\Local\\anaconda3\\Lib\\site-packages\\IPython\\core\\interactiveshell.py:286\u001b[0m, in \u001b[0;36m_modified_open\u001b[1;34m(file, *args, **kwargs)\u001b[0m\n\u001b[0;32m    279\u001b[0m \u001b[38;5;28;01mif\u001b[39;00m file \u001b[38;5;129;01min\u001b[39;00m {\u001b[38;5;241m0\u001b[39m, \u001b[38;5;241m1\u001b[39m, \u001b[38;5;241m2\u001b[39m}:\n\u001b[0;32m    280\u001b[0m     \u001b[38;5;28;01mraise\u001b[39;00m \u001b[38;5;167;01mValueError\u001b[39;00m(\n\u001b[0;32m    281\u001b[0m         \u001b[38;5;124mf\u001b[39m\u001b[38;5;124m\"\u001b[39m\u001b[38;5;124mIPython won\u001b[39m\u001b[38;5;124m'\u001b[39m\u001b[38;5;124mt let you open fd=\u001b[39m\u001b[38;5;132;01m{\u001b[39;00mfile\u001b[38;5;132;01m}\u001b[39;00m\u001b[38;5;124m by default \u001b[39m\u001b[38;5;124m\"\u001b[39m\n\u001b[0;32m    282\u001b[0m         \u001b[38;5;124m\"\u001b[39m\u001b[38;5;124mas it is likely to crash IPython. If you know what you are doing, \u001b[39m\u001b[38;5;124m\"\u001b[39m\n\u001b[0;32m    283\u001b[0m         \u001b[38;5;124m\"\u001b[39m\u001b[38;5;124myou can use builtins\u001b[39m\u001b[38;5;124m'\u001b[39m\u001b[38;5;124m open.\u001b[39m\u001b[38;5;124m\"\u001b[39m\n\u001b[0;32m    284\u001b[0m     )\n\u001b[1;32m--> 286\u001b[0m \u001b[38;5;28;01mreturn\u001b[39;00m io_open(file, \u001b[38;5;241m*\u001b[39margs, \u001b[38;5;241m*\u001b[39m\u001b[38;5;241m*\u001b[39mkwargs)\n",
      "\u001b[1;31mFileExistsError\u001b[0m: [Errno 17] File exists: 'hundred_years.txt'"
     ]
    }
   ],
   "source": [
    "# create a file\n",
    "f = open(\"hundred_years.txt\", \"x\")"
   ]
  },
  {
   "cell_type": "code",
   "execution_count": 76,
   "id": "d64dbb5b",
   "metadata": {},
   "outputs": [
    {
     "name": "stdout",
     "output_type": "stream",
     "text": [
      "Many years later, as he faced the firing squad, \n",
      "Colonel Aureliano Buendía was to remember that distant afternoon \n",
      "when his father took him to discover ice. \n",
      "Many years later, as he faced the firing squad, \n",
      "Colonel Aureliano Buendía was to remember that distant afternoon \n",
      "when his father took him to discover ice. \n",
      "\n"
     ]
    }
   ],
   "source": [
    "with open(\"hundred_years.txt\", \"a\") as f:\n",
    "    f.write(hundred_years)\n",
    "\n",
    "#open and read the file after the appending:\n",
    "with open(\"hundred_years.txt\") as f:\n",
    "  print(f.read())"
   ]
  },
  {
   "cell_type": "code",
   "execution_count": 77,
   "id": "84223c66",
   "metadata": {},
   "outputs": [
    {
     "data": {
      "text/plain": [
       "str"
      ]
     },
     "execution_count": 77,
     "metadata": {},
     "output_type": "execute_result"
    }
   ],
   "source": [
    "# Read a file\n",
    "f = open(\"hundred_years.txt\")\n",
    "hundred_years_txt = f.read()\n",
    "type(hundred_years_txt)"
   ]
  },
  {
   "cell_type": "markdown",
   "id": "7fd60dbf",
   "metadata": {},
   "source": [
    "#### String split()"
   ]
  },
  {
   "cell_type": "markdown",
   "id": "666bafa1",
   "metadata": {},
   "source": [
    "The final string method we're going to cover today is going to lead us in to a discussion of lists for next time. This is the string split() method. The split() method turns a string into a list. It takes an argument for a **delimiter** that will tell the function where to start the next item. If you don't specify what the delimiter is, the function will default to using spaces."
   ]
  },
  {
   "cell_type": "code",
   "execution_count": 78,
   "id": "5e3c3ac9",
   "metadata": {},
   "outputs": [
    {
     "name": "stdout",
     "output_type": "stream",
     "text": [
      "Many years later, as he faced the firing squad, \n",
      "Colonel Aureliano Buendía was to remember that distant afternoon \n",
      "when his father took him to discover ice. \n",
      "Many years later, as he faced the firing squad, \n",
      "Colonel Aureliano Buendía was to remember that distant afternoon \n",
      "when his father took him to discover ice. \n",
      "\n",
      "['Many', 'years', 'later,', 'as', 'he', 'faced', 'the', 'firing', 'squad,', 'Colonel', 'Aureliano', 'Buendía', 'was', 'to', 'remember', 'that', 'distant', 'afternoon', 'when', 'his', 'father', 'took', 'him', 'to', 'discover', 'ice.', 'Many', 'years', 'later,', 'as', 'he', 'faced', 'the', 'firing', 'squad,', 'Colonel', 'Aureliano', 'Buendía', 'was', 'to', 'remember', 'that', 'distant', 'afternoon', 'when', 'his', 'father', 'took', 'him', 'to', 'discover', 'ice.']\n",
      "['Many years later', ' as he faced the firing squad', ' \\nColonel Aureliano Buendía was to remember that distant afternoon \\nwhen his father took him to discover ice. \\nMany years later', ' as he faced the firing squad', ' \\nColonel Aureliano Buendía was to remember that distant afternoon \\nwhen his father took him to discover ice. \\n']\n"
     ]
    }
   ],
   "source": [
    "print(hundred_years_txt)\n",
    "print(hundred_years_txt.split())\n",
    "print(hundred_years_txt.split(','))"
   ]
  },
  {
   "cell_type": "markdown",
   "id": "25edbeae-a4d1-4199-899d-0185224569f5",
   "metadata": {},
   "source": [
    "#### Do It Yourself! (and teaser)"
   ]
  },
  {
   "cell_type": "markdown",
   "id": "677f7d78-a17b-418e-9931-f0e87f25f15f",
   "metadata": {},
   "source": [
    "In the codespace below, create a multiline string of your favorite quote. Once you've done that, split your string into a list. Make sure to assign that list to a variable. As an added challenge, you'll see there's a block of code commented below. Uncomment that code, adapting it to your variable name run it. What happens?"
   ]
  },
  {
   "cell_type": "code",
   "execution_count": 80,
   "id": "99a4f3df-f575-41d0-a5e1-3c23cc4f8fd1",
   "metadata": {
    "tags": []
   },
   "outputs": [],
   "source": [
    "# hundred_dict = {}\n",
    "# for word in hundred_lists:\n",
    "#    hundred_dict[word] = hundred_lists.count(word)\n",
    "   \n",
    "# hundred_dict"
   ]
  },
  {
   "cell_type": "code",
   "execution_count": null,
   "id": "8beb5069-ba4c-44fe-9a76-6acf7dd68bad",
   "metadata": {},
   "outputs": [],
   "source": []
  }
 ],
 "metadata": {
  "kernelspec": {
   "display_name": "Python 3 (ipykernel)",
   "language": "python",
   "name": "python3"
  },
  "language_info": {
   "codemirror_mode": {
    "name": "ipython",
    "version": 3
   },
   "file_extension": ".py",
   "mimetype": "text/x-python",
   "name": "python",
   "nbconvert_exporter": "python",
   "pygments_lexer": "ipython3",
   "version": "3.11.5"
  }
 },
 "nbformat": 4,
 "nbformat_minor": 5
}
